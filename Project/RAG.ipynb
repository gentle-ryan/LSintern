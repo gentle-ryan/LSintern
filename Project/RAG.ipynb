{
  "cells": [
    {
      "cell_type": "code",
      "execution_count": null,
      "metadata": {
        "colab": {
          "base_uri": "https://localhost:8080/"
        },
        "id": "Y8ZhsEJJMupd",
        "outputId": "fd2f4ff8-6a52-4f07-e761-29db011a12ce"
      },
      "outputs": [
        {
          "output_type": "stream",
          "name": "stdout",
          "text": [
            "\u001b[2K     \u001b[90m━━━━━━━━━━━━━━━━━━━━━━━━━━━━━━━━━━━━━━━━\u001b[0m \u001b[32m50.4/50.4 kB\u001b[0m \u001b[31m946.4 kB/s\u001b[0m eta \u001b[36m0:00:00\u001b[0m\n",
            "\u001b[2K   \u001b[90m━━━━━━━━━━━━━━━━━━━━━━━━━━━━━━━━━━━━━━━━\u001b[0m \u001b[32m384.0/384.0 kB\u001b[0m \u001b[31m7.7 MB/s\u001b[0m eta \u001b[36m0:00:00\u001b[0m\n",
            "\u001b[2K   \u001b[90m━━━━━━━━━━━━━━━━━━━━━━━━━━━━━━━━━━━━━━━━\u001b[0m \u001b[32m49.8/49.8 kB\u001b[0m \u001b[31m3.1 MB/s\u001b[0m eta \u001b[36m0:00:00\u001b[0m\n",
            "\u001b[2K   \u001b[90m━━━━━━━━━━━━━━━━━━━━━━━━━━━━━━━━━━━━━━━━\u001b[0m \u001b[32m295.8/295.8 kB\u001b[0m \u001b[31m16.7 MB/s\u001b[0m eta \u001b[36m0:00:00\u001b[0m\n",
            "\u001b[2K   \u001b[90m━━━━━━━━━━━━━━━━━━━━━━━━━━━━━━━━━━━━━━━━\u001b[0m \u001b[32m140.4/140.4 kB\u001b[0m \u001b[31m7.1 MB/s\u001b[0m eta \u001b[36m0:00:00\u001b[0m\n",
            "\u001b[2K   \u001b[90m━━━━━━━━━━━━━━━━━━━━━━━━━━━━━━━━━━━━━━━━\u001b[0m \u001b[32m360.7/360.7 kB\u001b[0m \u001b[31m22.2 MB/s\u001b[0m eta \u001b[36m0:00:00\u001b[0m\n",
            "\u001b[2K   \u001b[90m━━━━━━━━━━━━━━━━━━━━━━━━━━━━━━━━━━━━━━━━\u001b[0m \u001b[32m1.1/1.1 MB\u001b[0m \u001b[31m35.8 MB/s\u001b[0m eta \u001b[36m0:00:00\u001b[0m\n",
            "\u001b[2K   \u001b[90m━━━━━━━━━━━━━━━━━━━━━━━━━━━━━━━━━━━━━━━━\u001b[0m \u001b[32m75.6/75.6 kB\u001b[0m \u001b[31m3.8 MB/s\u001b[0m eta \u001b[36m0:00:00\u001b[0m\n",
            "\u001b[2K   \u001b[90m━━━━━━━━━━━━━━━━━━━━━━━━━━━━━━━━━━━━━━━━\u001b[0m \u001b[32m77.9/77.9 kB\u001b[0m \u001b[31m6.1 MB/s\u001b[0m eta \u001b[36m0:00:00\u001b[0m\n",
            "\u001b[2K   \u001b[90m━━━━━━━━━━━━━━━━━━━━━━━━━━━━━━━━━━━━━━━━\u001b[0m \u001b[32m318.9/318.9 kB\u001b[0m \u001b[31m18.6 MB/s\u001b[0m eta \u001b[36m0:00:00\u001b[0m\n",
            "\u001b[2K   \u001b[90m━━━━━━━━━━━━━━━━━━━━━━━━━━━━━━━━━━━━━━━━\u001b[0m \u001b[32m141.9/141.9 kB\u001b[0m \u001b[31m9.5 MB/s\u001b[0m eta \u001b[36m0:00:00\u001b[0m\n",
            "\u001b[2K   \u001b[90m━━━━━━━━━━━━━━━━━━━━━━━━━━━━━━━━━━━━━━━━\u001b[0m \u001b[32m58.3/58.3 kB\u001b[0m \u001b[31m4.0 MB/s\u001b[0m eta \u001b[36m0:00:00\u001b[0m\n",
            "\u001b[?25h"
          ]
        }
      ],
      "source": [
        "! pip3 install -qU  markdownify  langchain-upstage rank_bm25"
      ]
    },
    {
      "cell_type": "code",
      "execution_count": null,
      "metadata": {
        "id": "Cqku8_AWMuph"
      },
      "outputs": [],
      "source": [
        "# RAG 1. load doc (done), 2. chunking, splits, 3. embeding - indexing, 4. retrieve"
      ]
    },
    {
      "cell_type": "code",
      "execution_count": null,
      "metadata": {
        "id": "QdVHhG5uMuph"
      },
      "outputs": [],
      "source": [
        "from langchain_upstage import UpstageLayoutAnalysisLoader\n",
        "\n",
        "# 1. load doc\n",
        "layzer = UpstageLayoutAnalysisLoader(\"/expling-syllabus-240728.pdf\", api_key=\"up_EbdQcRYJS0LhtlVCzTE6iwuimlUiE\", output_type=\"html\")\n",
        "docs = layzer.load()"
      ]
    },
    {
      "cell_type": "code",
      "execution_count": null,
      "metadata": {
        "colab": {
          "base_uri": "https://localhost:8080/"
        },
        "id": "WcYPIYQmMuph",
        "outputId": "dd6ce467-a518-4c1d-a59f-ca32b432ed77"
      },
      "outputs": [
        {
          "output_type": "stream",
          "name": "stdout",
          "text": [
            "Splits: 21\n"
          ]
        }
      ],
      "source": [
        "from langchain_text_splitters import (\n",
        "    Language,\n",
        "    RecursiveCharacterTextSplitter,\n",
        ")\n",
        "\n",
        "# 2. Split\n",
        "text_splitter = RecursiveCharacterTextSplitter.from_language(\n",
        "    chunk_size=1000, chunk_overlap=100, language=Language.HTML\n",
        ")\n",
        "splits = text_splitter.split_documents(docs)\n",
        "print(\"Splits:\", len(splits))"
      ]
    },
    {
      "cell_type": "code",
      "execution_count": null,
      "metadata": {
        "id": "QZLbvGBpMuph"
      },
      "outputs": [],
      "source": [
        "from langchain_chroma import Chroma\n",
        "from langchain_upstage import UpstageEmbeddings\n",
        "from langchain.docstore.document import Document\n"
      ]
    },
    {
      "cell_type": "code",
      "execution_count": null,
      "metadata": {
        "id": "P8gxTam4Muph"
      },
      "outputs": [],
      "source": [
        "# 3. Embed & indexing\n",
        "vectorstore = Chroma.from_documents(\n",
        "    documents=splits,\n",
        "    embedding=UpstageEmbeddings(api_key=\"up_EbdQcRYJS0LhtlVCzTE6iwuimlUiE\", model=\"solar-embedding-1-large\"),\n",
        ")"
      ]
    },
    {
      "cell_type": "code",
      "execution_count": null,
      "metadata": {
        "colab": {
          "base_uri": "https://localhost:8080/"
        },
        "id": "duScpxgCMuph",
        "outputId": "2304df84-aa6b-46a9-9ce5-366cc5a95244"
      },
      "outputs": [
        {
          "output_type": "stream",
          "name": "stdout",
          "text": [
            "4\n",
            "<h1 id='0' style='font-size:18px'>Experimental Linguistics<br>Syllabus</h1><br><table id='1' style='\n"
          ]
        }
      ],
      "source": [
        "# 4. retrive\n",
        "retriever = vectorstore.as_retriever()\n",
        "result_docs = retriever.invoke(\"When is the office hours for Experimental Linguistics?\")\n",
        "print(len(result_docs))\n",
        "print(result_docs[0].page_content[:100])"
      ]
    },
    {
      "cell_type": "code",
      "execution_count": null,
      "metadata": {
        "id": "b5IzP-ijMuph"
      },
      "outputs": [],
      "source": [
        "from langchain_core.prompts import PromptTemplate\n",
        "from langchain_core.output_parsers import StrOutputParser\n",
        "from langchain_upstage import ChatUpstage\n",
        "\n",
        "\n",
        "llm = ChatUpstage(api_key=\"up_EbdQcRYJS0LhtlVCzTE6iwuimlUiE\")\n",
        "\n",
        "prompt_template = PromptTemplate.from_template(\n",
        "    \"\"\"\n",
        "    Please provide most correct answer from the following context.\n",
        "    If the answer is not present in the context, please write \"The information is not present in the context.\"\n",
        "    ---\n",
        "    Question: {question}\n",
        "    ---\n",
        "    Context: {Context}\n",
        "    \"\"\"\n",
        ")\n",
        "chain = prompt_template | llm | StrOutputParser()"
      ]
    },
    {
      "cell_type": "code",
      "execution_count": null,
      "metadata": {
        "colab": {
          "base_uri": "https://localhost:8080/",
          "height": 35
        },
        "id": "SefxfhrKMuph",
        "outputId": "61f8e3aa-c335-4dc0-8688-b3de62b325b2"
      },
      "outputs": [
        {
          "output_type": "execute_result",
          "data": {
            "text/plain": [
              "'The office hours for Experimental Linguistics are MonTues 2-3pm.'"
            ],
            "application/vnd.google.colaboratory.intrinsic+json": {
              "type": "string"
            }
          },
          "metadata": {},
          "execution_count": 24
        }
      ],
      "source": [
        "chain.invoke({\"question\": \"When is the office hours for Experimental Linguistics?\", \"Context\": result_docs})"
      ]
    },
    {
      "cell_type": "code",
      "source": [
        "chain.invoke({\"question\": \"What tools will be used in Experimental Linguistics?\", \"Context\": result_docs})"
      ],
      "metadata": {
        "colab": {
          "base_uri": "https://localhost:8080/",
          "height": 53
        },
        "id": "vJTPrSzKP4bS",
        "outputId": "cb437a55-b5fd-4010-e3e4-24d358ecd5d5"
      },
      "execution_count": null,
      "outputs": [
        {
          "output_type": "execute_result",
          "data": {
            "text/plain": [
              "'The tools that will be used in Experimental Linguistics are Praat, OpenSesame or Psychopy, IBEX or PCIbex or JsPsych, and R.'"
            ],
            "application/vnd.google.colaboratory.intrinsic+json": {
              "type": "string"
            }
          },
          "metadata": {},
          "execution_count": 26
        }
      ]
    },
    {
      "cell_type": "code",
      "source": [
        "chain.invoke({\"question\": \"Can you tell me the required readings for each weeks in Experimental Linguistics?\", \"Context\": result_docs})"
      ],
      "metadata": {
        "colab": {
          "base_uri": "https://localhost:8080/",
          "height": 107
        },
        "id": "fk7gzY3hQT0B",
        "outputId": "62a157df-8a47-4fd0-d9aa-9da24f006040"
      },
      "execution_count": null,
      "outputs": [
        {
          "output_type": "execute_result",
          "data": {
            "text/plain": [
              "'The required readings for each week in Experimental Linguistics are as follows:\\n\\nWeek 1:\\n- Optional reading: Podesva and Sharma (2014) Ch. 2\\n- Lab: Using Latex, presenting linguistic data in paper\\n\\nWeek 2:\\n- Required reading: Mike Frank’s textbook: Ch. 1–2, 8–9\\n- Optional reading: Podesva and Sharma (2014) Ch. 7, Rosenthal and Rosnow (2008) Ch. 7\\n\\nWeek 3:\\n- Diving deeper into a sample linguistic experiment\\n- No specific readings mentioned\\n\\nPlease note that the information for Week 3 is not present in the context.'"
            ],
            "application/vnd.google.colaboratory.intrinsic+json": {
              "type": "string"
            }
          },
          "metadata": {},
          "execution_count": 29
        }
      ]
    },
    {
      "cell_type": "code",
      "source": [
        "chain.invoke({\"question\": \"I haven't taken Phonology, Morphology and Syntax. Can I take  Experimental Linguistics?\", \"Context\": result_docs})"
      ],
      "metadata": {
        "colab": {
          "base_uri": "https://localhost:8080/",
          "height": 71
        },
        "id": "UKpBa71PRI2u",
        "outputId": "e6b31d5a-9bbc-4d05-9b25-a753eb1c6032"
      },
      "execution_count": null,
      "outputs": [
        {
          "output_type": "execute_result",
          "data": {
            "text/plain": [
              "'No, you cannot take Experimental Linguistics without taking Phonology, Morphology and Syntax. According to the course requirements, students are strongly encouraged to have taken at least one of these classes as a prerequisite.'"
            ],
            "application/vnd.google.colaboratory.intrinsic+json": {
              "type": "string"
            }
          },
          "metadata": {},
          "execution_count": 38
        }
      ]
    },
    {
      "cell_type": "code",
      "source": [
        "chain.invoke({\"question\": \"What can I learn through Experimental Linguistics?\", \"Context\": result_docs})"
      ],
      "metadata": {
        "colab": {
          "base_uri": "https://localhost:8080/",
          "height": 89
        },
        "id": "iqZT0cAHSRPu",
        "outputId": "a98ef75a-5e11-4849-f650-12fcb630c611"
      },
      "execution_count": null,
      "outputs": [
        {
          "output_type": "execute_result",
          "data": {
            "text/plain": [
              "'Through Experimental Linguistics, you can learn how to transform linguistic hypotheses into empirically testable predictions, design an experimental study, implement experiments using various tools, analyze the results, and understand the types of questions and debates in various subfields of linguistics that have motivated experimental approaches.'"
            ],
            "application/vnd.google.colaboratory.intrinsic+json": {
              "type": "string"
            }
          },
          "metadata": {},
          "execution_count": 39
        }
      ]
    },
    {
      "cell_type": "code",
      "source": [
        "chain.invoke({\"question\": \"Could you please write an email to Instructor requesting attendance recognition for absence on September 17th?\", \"Context\": result_docs})"
      ],
      "metadata": {
        "colab": {
          "base_uri": "https://localhost:8080/",
          "height": 89
        },
        "id": "IWo6en5rSkPG",
        "outputId": "58213de0-11b5-491a-8ae3-60bfdc97cb84"
      },
      "execution_count": null,
      "outputs": [
        {
          "output_type": "execute_result",
          "data": {
            "text/plain": [
              "'Dear Instructor Sunwoo Jeong,\\n\\nI am writing to request attendance recognition for my absence on September 17th. Unfortunately, I was not able to attend class that day due to a personal matter. I would like to request that my absence be recognized and that I be given the opportunity to make up any missed work or assignments.\\n\\nThank you for your understanding and cooperation.\\n\\nSincerely,\\n[Your Name]'"
            ],
            "application/vnd.google.colaboratory.intrinsic+json": {
              "type": "string"
            }
          },
          "metadata": {},
          "execution_count": 52
        }
      ]
    },
    {
      "cell_type": "code",
      "source": [
        "chain.invoke({\"question\": \"Where all readings for Experimental Linguistics are posted?\", \"Context\": result_docs})"
      ],
      "metadata": {
        "colab": {
          "base_uri": "https://localhost:8080/",
          "height": 71
        },
        "id": "Altphk52VJ09",
        "outputId": "844580f2-9b33-4b42-d59f-1c8f6e224426"
      },
      "execution_count": null,
      "outputs": [
        {
          "output_type": "execute_result",
          "data": {
            "text/plain": [
              "'The required and optional readings for Experimental Linguistics are posted in the context. The required reading for Week 2 is Mike Frank’s textbook: Ch. 1–2, 8–9, and the optional reading is Podesva and Sharma (2014) Ch. 7, Rosenthal and Rosnow (2008) Ch. 7.'"
            ],
            "application/vnd.google.colaboratory.intrinsic+json": {
              "type": "string"
            }
          },
          "metadata": {},
          "execution_count": 63
        }
      ]
    },
    {
      "cell_type": "code",
      "source": [
        "chain.invoke({\"question\": \"When is the lab session for Experimental Linguistics? How many times?\", \"Context\": result_docs})"
      ],
      "metadata": {
        "colab": {
          "base_uri": "https://localhost:8080/",
          "height": 71
        },
        "id": "myAVxKOWV80B",
        "outputId": "51374522-fb5e-4674-824c-e81ea2249e37"
      },
      "execution_count": null,
      "outputs": [
        {
          "output_type": "execute_result",
          "data": {
            "text/plain": [
              "'The lab session for Experimental Linguistics is conducted during the class time, which is MonWeds 12:30-1:45pm. The number of lab sessions is not explicitly mentioned, but it is implied that there are 4 in-lab assignments throughout the course.'"
            ],
            "application/vnd.google.colaboratory.intrinsic+json": {
              "type": "string"
            }
          },
          "metadata": {},
          "execution_count": 71
        }
      ]
    }
  ],
  "metadata": {
    "kernelspec": {
      "display_name": ".venv",
      "language": "python",
      "name": "python3"
    },
    "language_info": {
      "codemirror_mode": {
        "name": "ipython",
        "version": 3
      },
      "file_extension": ".py",
      "mimetype": "text/x-python",
      "name": "python",
      "nbconvert_exporter": "python",
      "pygments_lexer": "ipython3",
      "version": "3.11.6"
    },
    "colab": {
      "provenance": []
    }
  },
  "nbformat": 4,
  "nbformat_minor": 0
}